{
 "cells": [
  {
   "cell_type": "code",
   "execution_count": 1,
   "id": "9f47cd53-5da0-4819-94c8-b15fddb1ee70",
   "metadata": {},
   "outputs": [
    {
     "name": "stdout",
     "output_type": "stream",
     "text": [
      "Looking in indexes: https://mirrors.aliyun.com/pypi/simple/\n",
      "Collecting bs4\n",
      "  Using cached bs4-0.0.1-py3-none-any.whl\n",
      "Collecting selenium\n",
      "  Using cached https://mirrors.aliyun.com/pypi/packages/10/56/8288d1813a68c1e0638515dbb777fce6d87d0d240e683216f956145310e6/selenium-4.11.2-py3-none-any.whl (7.2 MB)\n",
      "Collecting beautifulsoup4 (from bs4)\n",
      "  Downloading https://mirrors.aliyun.com/pypi/packages/57/f4/a69c20ee4f660081a7dedb1ac57f29be9378e04edfcb90c526b923d4bebc/beautifulsoup4-4.12.2-py3-none-any.whl (142 kB)\n",
      "\u001b[2K     \u001b[38;2;114;156;31m━━━━━━━━━━━━━━━━━━━━━━━━━━━━━━━━━━━━━\u001b[0m \u001b[32m143.0/143.0 kB\u001b[0m \u001b[31m674.1 kB/s\u001b[0m eta \u001b[36m0:00:00\u001b[0m kB/s\u001b[0m eta \u001b[36m0:00:01\u001b[0m:01\u001b[0m\n",
      "\u001b[?25hCollecting urllib3[socks]<3,>=1.26 (from selenium)\n",
      "  Downloading https://mirrors.aliyun.com/pypi/packages/9b/81/62fd61001fa4b9d0df6e31d47ff49cfa9de4af03adecf339c7bc30656b37/urllib3-2.0.4-py3-none-any.whl (123 kB)\n",
      "\u001b[2K     \u001b[38;2;114;156;31m━━━━━━━━━━━━━━━━━━━━━━━━━━━━━━━━━━━━━\u001b[0m \u001b[32m123.9/123.9 kB\u001b[0m \u001b[31m674.4 kB/s\u001b[0m eta \u001b[36m0:00:00\u001b[0m1m774.5 kB/s\u001b[0m eta \u001b[36m0:00:01\u001b[0m\n",
      "\u001b[?25hCollecting trio~=0.17 (from selenium)\n",
      "  Using cached https://mirrors.aliyun.com/pypi/packages/a3/dd/b61fa61b186d3267ef3903048fbee29132963ae762fb70b08d4a3cd6f7aa/trio-0.22.2-py3-none-any.whl (400 kB)\n",
      "Collecting trio-websocket~=0.9 (from selenium)\n",
      "  Using cached https://mirrors.aliyun.com/pypi/packages/a5/a6/06e2373f95c12e9e8f6b910a76c86e375348ead77ab476230640666310fb/trio_websocket-0.10.3-py3-none-any.whl (17 kB)\n",
      "Collecting certifi>=2021.10.8 (from selenium)\n",
      "  Downloading https://mirrors.aliyun.com/pypi/packages/4c/dd/2234eab22353ffc7d94e8d13177aaa050113286e93e7b40eae01fbf7c3d9/certifi-2023.7.22-py3-none-any.whl (158 kB)\n",
      "\u001b[2K     \u001b[38;2;114;156;31m━━━━━━━━━━━━━━━━━━━━━━━━━━━━━━━━━━━━━\u001b[0m \u001b[32m158.3/158.3 kB\u001b[0m \u001b[31m474.6 kB/s\u001b[0m eta \u001b[36m0:00:00\u001b[0m1m622.9 kB/s\u001b[0m eta \u001b[36m0:00:01\u001b[0m\n",
      "\u001b[?25hCollecting attrs>=20.1.0 (from trio~=0.17->selenium)\n",
      "  Downloading https://mirrors.aliyun.com/pypi/packages/f0/eb/fcb708c7bf5056045e9e98f62b93bd7467eb718b0202e7698eb11d66416c/attrs-23.1.0-py3-none-any.whl (61 kB)\n",
      "\u001b[2K     \u001b[38;2;114;156;31m━━━━━━━━━━━━━━━━━━━━━━━━━━━━━━━━━━━━━━━\u001b[0m \u001b[32m61.2/61.2 kB\u001b[0m \u001b[31m550.4 kB/s\u001b[0m eta \u001b[36m0:00:00\u001b[0m1m776.9 kB/s\u001b[0m eta \u001b[36m0:00:01\u001b[0m\n",
      "\u001b[?25hCollecting sortedcontainers (from trio~=0.17->selenium)\n",
      "  Using cached https://mirrors.aliyun.com/pypi/packages/32/46/9cb0e58b2deb7f82b84065f37f3bffeb12413f947f9388e4cac22c4621ce/sortedcontainers-2.4.0-py2.py3-none-any.whl (29 kB)\n",
      "Collecting idna (from trio~=0.17->selenium)\n",
      "  Downloading https://mirrors.aliyun.com/pypi/packages/fc/34/3030de6f1370931b9dbb4dad48f6ab1015ab1d32447850b9fc94e60097be/idna-3.4-py3-none-any.whl (61 kB)\n",
      "\u001b[2K     \u001b[38;2;114;156;31m━━━━━━━━━━━━━━━━━━━━━━━━━━━━━━━━━━━━━━━\u001b[0m \u001b[32m61.5/61.5 kB\u001b[0m \u001b[31m560.1 kB/s\u001b[0m eta \u001b[36m0:00:00\u001b[0mm eta \u001b[36m0:00:01\u001b[0m0:01\u001b[0m\n",
      "\u001b[?25hCollecting outcome (from trio~=0.17->selenium)\n",
      "  Using cached https://mirrors.aliyun.com/pypi/packages/e9/4f/2f2d3f65d851852712b4de3fd0cfdcec9c5e9a9c347430e004ba770ef4db/outcome-1.2.0-py2.py3-none-any.whl (9.7 kB)\n",
      "Collecting sniffio (from trio~=0.17->selenium)\n",
      "  Downloading https://mirrors.aliyun.com/pypi/packages/c3/a0/5dba8ed157b0136607c7f2151db695885606968d1fae123dc3391e0cfdbf/sniffio-1.3.0-py3-none-any.whl (10 kB)\n",
      "Collecting exceptiongroup>=1.0.0rc9 (from trio~=0.17->selenium)\n",
      "  Downloading https://mirrors.aliyun.com/pypi/packages/ad/83/b71e58666f156a39fb29417e4c8ca4bc7400c0dd4ed9e8842ab54dc8c344/exceptiongroup-1.1.3-py3-none-any.whl (14 kB)\n",
      "Collecting wsproto>=0.14 (from trio-websocket~=0.9->selenium)\n",
      "  Using cached https://mirrors.aliyun.com/pypi/packages/78/58/e860788190eba3bcce367f74d29c4675466ce8dddfba85f7827588416f01/wsproto-1.2.0-py3-none-any.whl (24 kB)\n",
      "Collecting pysocks!=1.5.7,<2.0,>=1.5.6 (from urllib3[socks]<3,>=1.26->selenium)\n",
      "  Downloading https://mirrors.aliyun.com/pypi/packages/8d/59/b4572118e098ac8e46e399a1dd0f2d85403ce8bbaad9ec79373ed6badaf9/PySocks-1.7.1-py3-none-any.whl (16 kB)\n",
      "Collecting soupsieve>1.2 (from beautifulsoup4->bs4)\n",
      "  Downloading https://mirrors.aliyun.com/pypi/packages/49/37/673d6490efc51ec46d198c75903d99de59baffdd47aea3d071b80a9e4e89/soupsieve-2.4.1-py3-none-any.whl (36 kB)\n",
      "Collecting h11<1,>=0.9.0 (from wsproto>=0.14->trio-websocket~=0.9->selenium)\n",
      "  Using cached https://mirrors.aliyun.com/pypi/packages/95/04/ff642e65ad6b90db43e668d70ffb6736436c7ce41fcc549f4e9472234127/h11-0.14.0-py3-none-any.whl (58 kB)\n",
      "Installing collected packages: sortedcontainers, urllib3, soupsieve, sniffio, pysocks, idna, h11, exceptiongroup, certifi, attrs, wsproto, outcome, beautifulsoup4, trio, bs4, trio-websocket, selenium\n",
      "Successfully installed attrs-23.1.0 beautifulsoup4-4.12.2 bs4-0.0.1 certifi-2023.7.22 exceptiongroup-1.1.3 h11-0.14.0 idna-3.4 outcome-1.2.0 pysocks-1.7.1 selenium-4.11.2 sniffio-1.3.0 sortedcontainers-2.4.0 soupsieve-2.4.1 trio-0.22.2 trio-websocket-0.10.3 urllib3-2.0.4 wsproto-1.2.0\n"
     ]
    }
   ],
   "source": [
    "!pip install -t package bs4 selenium"
   ]
  },
  {
   "cell_type": "code",
   "execution_count": 3,
   "id": "e426881f-0c97-47de-9087-09aa8a4d4bb6",
   "metadata": {},
   "outputs": [],
   "source": [
    "from bs4 import BeautifulSoup\n",
    "from selenium import webdriver\n",
    "# from book_info import get_book_info"
   ]
  },
  {
   "cell_type": "code",
   "execution_count": 14,
   "id": "883dec6a-70bf-49f7-bd8a-98ea40faeffe",
   "metadata": {},
   "outputs": [
    {
     "name": "stdout",
     "output_type": "stream",
     "text": [
      "开始等待加载完...\n",
      "加载完成！\n",
      "共找到15条搜索结果：\n",
      "[{'title': '认知觉醒 : 开启自我改变的原动力', 'abstract': '周岭 / 人民邮电出版社 / 2020-10 / 59.8', 'url': 'https://book.douban.com/subject/35193035/', 'cover': 'https://img2.doubanio.com/view/subject/m/public/s33713442.jpg'}, {'title': '认知心理学（第三版）（万千心理） : 心智、研究与你的生活', 'abstract': 'E. Bruce Goldstein / 张明 等 / 中国轻工业出版社 / 2015-2 / 96.00元', 'url': 'https://book.douban.com/subject/26317334/', 'cover': 'https://img2.doubanio.com/view/subject/m/public/s28929133.jpg'}, {'title': '超越元认知 : 五大认知缺陷及应对策略', 'abstract': '[加] 泰德·卡兹比 / 陈晓颖 / 中译出版社 / 68.00元', 'url': 'https://book.douban.com/subject/36035430/', 'cover': 'https://img9.doubanio.com/view/subject/m/public/s34278685.jpg'}, {'title': '认知、脑与意识 : 认知神经科学导论（全彩色版）（原著第2版）', 'abstract': '巴尔斯 / 科学出版社 / 2012-1 / 288.00元', 'url': 'https://book.douban.com/subject/10536853/', 'cover': 'https://img1.doubanio.com/view/subject/m/public/s26353659.jpg'}, {'title': '认知 : 人行为背后的思维与智能', 'abstract': '赫伯特·西蒙 / 荆其诚 / 张厚粲 / 中国人民大学出版社 / 2019-12 / 69.00元', 'url': 'https://book.douban.com/subject/34917699/', 'cover': 'https://img1.doubanio.com/view/subject/m/public/s33666447.jpg'}, {'title': '认知驱动 : 做成一件对他人很有用的事', 'abstract': '周岭 / 人民邮电出版社 / 2021-10 / 59.80元', 'url': 'https://book.douban.com/subject/35548280/', 'cover': 'https://img1.doubanio.com/view/subject/m/public/s33958600.jpg'}, {'title': '社会认知 : 洞悉人心的科学', 'abstract': '[加] 齐瓦·孔达 / 周治金 / 朱新秤 / 人民邮电出版社 / 2013-2 / 88.00元', 'url': 'https://book.douban.com/subject/20563266/', 'cover': 'https://img2.doubanio.com/view/subject/m/public/s24889382.jpg'}, {'title': '认知、脑与意识 : 认知神经科学导论', 'abstract': 'Bernard J. Baars / Nicole M. Gage / 科学出版社 / 2008-8 / 280.00元', 'url': 'https://book.douban.com/subject/3216250/', 'cover': 'https://img2.doubanio.com/view/subject/m/public/s3452593.jpg'}, {'title': '思想实验 : 升级认知的50个心智程序', 'abstract': '李万中 / 机械工业出版社 / 2023-7 / 69.00元', 'url': 'https://book.douban.com/subject/36467375/', 'cover': 'https://img2.doubanio.com/view/subject/m/public/s34580013.jpg'}, {'title': '具身认知', 'abstract': '[德]露特·E. 施瓦茨（Ruth E. Schwarz）[德]弗里德黑尔姆·施 / 人民邮电出版社 / 2023-5', 'url': 'https://book.douban.com/subject/36443843/', 'cover': 'https://img2.doubanio.com/view/subject/m/public/s34562111.jpg'}, {'title': '感知·理知·自我认知', 'abstract': '陈嘉映 / 北京日报出版社 / 2022-1 / 58', 'url': 'https://book.douban.com/subject/35710431/', 'cover': 'https://img1.doubanio.com/view/subject/m/public/s34078898.jpg'}, {'title': '思维改变生活 : 积极而实用的认知行为疗法', 'abstract': '[澳]埃德尔曼 / 黄志强 / 殷明 / 华东师范大学出版社 / 2008-1 / 38.00元', 'url': 'https://book.douban.com/subject/2984241/', 'cover': 'https://img1.doubanio.com/view/subject/m/public/s2962538.jpg'}, {'title': '认知破局', 'abstract': '张琦 著 / 磨铁文化 出品 / 北京联合出版有限公司', 'url': 'https://book.douban.com/subject/36473685/', 'cover': 'https://img2.doubanio.com/view/subject/m/public/s34584963.jpg'}, {'title': '洞见 : 从科学到哲学，打开人类的认知真相', 'abstract': '（美）罗伯特·赖特 / 宋伟 / 北京联合出版公司 / 2020-8 / 78.00元', 'url': 'https://book.douban.com/subject/35140470/', 'cover': 'https://img2.doubanio.com/view/subject/m/public/s33687223.jpg'}, {'title': '认知红利', 'abstract': '谢春霖 / 机械工业出版社 / 2019-8-20 / 79.00元', 'url': 'https://book.douban.com/subject/34793488/', 'cover': 'https://img9.doubanio.com/view/subject/m/public/s33715304.jpg'}]\n"
     ]
    }
   ],
   "source": [
    "from time import sleep\n",
    "\n",
    "# Use the Chrome browser's WebDriver\n",
    "options = webdriver.ChromeOptions()\n",
    "options.add_argument('--headless') \n",
    "user_agent = 'Mozilla/5.0 (Windows NT 10.0; Win64; x64) AppleWebKit/537.36 (KHTML, like Gecko) Chrome/110.0.0.0 Safari/537.36'\n",
    "options.add_argument(f'user-agent={user_agent}')\n",
    "driver = webdriver.Chrome(options=options)\n",
    "\n",
    "def search_books(book_name):\n",
    "    if not book_name:\n",
    "        print(\"请传入要搜索的关键词\")\n",
    "        return\n",
    "    # Construct the search link\n",
    "    search_url = \"https://search.douban.com/book/subject_search?search_text=\" + book_name\n",
    "\n",
    "    # Send the request\n",
    "    driver.get(search_url)\n",
    "    # 等待执行完，设置了headless之后，它不会等，需要显式的设置\n",
    "    print(\"开始等待加载完...\")\n",
    "    while driver.execute_script(\"return document.readyState\") != \"complete\":\n",
    "        print(\"还没 ready...\")\n",
    "        sleep(1)\n",
    "    print(\"加载完成！\")\n",
    "    \n",
    "    html = driver.page_source\n",
    "    # print(\"get html: \", html)\n",
    "    soup = BeautifulSoup(html, \"html.parser\")\n",
    "\n",
    "    # Find all search results\n",
    "    result_list = soup.find_all(\"a\", class_=\"cover-link\")\n",
    "\n",
    "    books = []\n",
    "    # Output the search results\n",
    "    if len(result_list) > 0:\n",
    "        print(\"共找到%d条搜索结果：\" % len(result_list))\n",
    "        for result in result_list:\n",
    "            url = result.get(\"href\")\n",
    "            cover_dom = result.find(\"img\", class_=\"cover\")\n",
    "            cover = ''\n",
    "            if cover_dom:\n",
    "                cover = cover_dom.get(\"src\")\n",
    "                if cover:\n",
    "                    cover = cover.strip()\n",
    "\n",
    "            title = ''\n",
    "            abstract = ''\n",
    "            detail_dom = result.find_next_sibling(\"div\", class_=\"detail\")\n",
    "            if detail_dom:\n",
    "                title_dom = detail_dom.find(\"div\", class_=\"title\")\n",
    "                if title_dom:\n",
    "                    title = title_dom.get_text().strip()\n",
    "                abstract_dom = detail_dom.find(\"div\", class_=\"abstract\")\n",
    "                if abstract_dom:\n",
    "                    abstract = abstract_dom.get_text().strip()\n",
    "            abstract_dom = result.find(\"div\", class_=\"abstract\")\n",
    "            if abstract_dom:\n",
    "                abstract = abstract_dom.get_text().strip()\n",
    "\n",
    "            book = {\"title\": title, \"abstract\": abstract, \"url\": url, \"cover\": cover}\n",
    "            books.append(book)\n",
    "    else:\n",
    "        print(\"没有找到相关书籍，请尝试其他关键词。\")\n",
    "\n",
    "    # Save the search results to an Excel file\n",
    "    # df = pd.DataFrame(books)\n",
    "    # df.to_excel(\"book_search_results.xlsx\", index=False)\n",
    "    print(books)\n",
    "\n",
    "search_books(\"认知\")"
   ]
  },
  {
   "cell_type": "code",
   "execution_count": null,
   "id": "d2059481-d905-4652-8a23-5c1e13714ce4",
   "metadata": {},
   "outputs": [],
   "source": []
  }
 ],
 "metadata": {
  "kernelspec": {
   "display_name": "Python 3 (ipykernel)",
   "language": "python",
   "name": "python3"
  },
  "language_info": {
   "codemirror_mode": {
    "name": "ipython",
    "version": 3
   },
   "file_extension": ".py",
   "mimetype": "text/x-python",
   "name": "python",
   "nbconvert_exporter": "python",
   "pygments_lexer": "ipython3",
   "version": "3.10.12"
  }
 },
 "nbformat": 4,
 "nbformat_minor": 5
}
